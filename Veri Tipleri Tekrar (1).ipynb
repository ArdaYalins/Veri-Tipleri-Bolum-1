{
 "cells": [
  {
   "cell_type": "markdown",
   "id": "7f1c8396",
   "metadata": {},
   "source": [
    "# Print Komutu"
   ]
  },
  {
   "cell_type": "code",
   "execution_count": 11,
   "id": "aecf74ff",
   "metadata": {
    "scrolled": false
   },
   "outputs": [
    {
     "name": "stdout",
     "output_type": "stream",
     "text": [
      "Hello World\n",
      "Welcome to \n",
      "New World\n",
      "My name is \tArda\n"
     ]
    }
   ],
   "source": [
    "print(\"Hello World\")\n",
    "print(\"Welcome to \\nNew World\")\n",
    "print(\"My name is \\tArda\")"
   ]
  },
  {
   "cell_type": "code",
   "execution_count": 28,
   "id": "c54bb1d5",
   "metadata": {},
   "outputs": [
    {
     "name": "stdout",
     "output_type": "stream",
     "text": [
      "Benim adim Arda\n",
      "Benim adim Arda, yasim 16\n",
      "Benim adim Arda, yasim 16\n",
      "Benim adim 16, yasim Arda\n",
      "Benim adim 16, yasim Arda\n",
      "Benim adim Arda, yasim 16\n"
     ]
    }
   ],
   "source": [
    "print(\"Benim adim {}\".format(\"Arda\"))\n",
    "print(\"Benim adim {}, yasim {}\".format(\"Arda\", 16))\n",
    "\n",
    "print(\"Benim adim {0}, yasim {1}\".format(\"Arda\", 16))\n",
    "print(\"Benim adim {1}, yasim {0}\".format(\"Arda\", 16))\n",
    "\n",
    "print(\"Benim adim {ad}, yasim {yas}\".format(ad=16, yas=\"Arda\"))\n",
    "print(\"Benim adim {ad}, yasim {yas}\".format(yas=16, ad=\"Arda\"))"
   ]
  },
  {
   "cell_type": "markdown",
   "id": "21840f44",
   "metadata": {},
   "source": [
    "# Degiskenler"
   ]
  },
  {
   "cell_type": "markdown",
   "id": "8ca1c2e0",
   "metadata": {},
   "source": [
    "Kabul edilmeyen Durumlar :\n",
    "sayi ile baslamak,\n",
    "bosluk icermek,\n",
    "\"*(/ gibi semboller kullanmak,\n",
    "rezerve edilmis isimleri kullanmak."
   ]
  },
  {
   "cell_type": "code",
   "execution_count": 6,
   "id": "e4e41f42",
   "metadata": {},
   "outputs": [
    {
     "name": "stdout",
     "output_type": "stream",
     "text": [
      "11\n"
     ]
    }
   ],
   "source": [
    "sayi = 11\n",
    "print(sayi)"
   ]
  },
  {
   "cell_type": "code",
   "execution_count": 7,
   "id": "bb21f90d",
   "metadata": {},
   "outputs": [
    {
     "name": "stdout",
     "output_type": "stream",
     "text": [
      "12\n"
     ]
    }
   ],
   "source": [
    "sayi = sayi + 1\n",
    "print(sayi)"
   ]
  },
  {
   "cell_type": "code",
   "execution_count": 1,
   "id": "c6096640",
   "metadata": {},
   "outputs": [
    {
     "name": "stdout",
     "output_type": "stream",
     "text": [
      "10\n"
     ]
    }
   ],
   "source": [
    "sayi_ilk = 10\n",
    "print(sayi_ilk)"
   ]
  },
  {
   "cell_type": "code",
   "execution_count": 9,
   "id": "af874c55",
   "metadata": {},
   "outputs": [
    {
     "name": "stdout",
     "output_type": "stream",
     "text": [
      "22\n"
     ]
    }
   ],
   "source": [
    "print(sayi + sayi_ilk)"
   ]
  },
  {
   "cell_type": "code",
   "execution_count": 18,
   "id": "26177d13",
   "metadata": {},
   "outputs": [],
   "source": [
    "sayi_ilk = 10\n",
    "_ = 20\n",
    "a = 30"
   ]
  },
  {
   "cell_type": "markdown",
   "id": "9b6d308a",
   "metadata": {},
   "source": [
    "# Integer ve Float"
   ]
  },
  {
   "cell_type": "markdown",
   "id": "5c2aca99",
   "metadata": {},
   "source": [
    "  sayilar\n",
    "integer = Tam Sayilar\n",
    "float = Ondalik sayilar"
   ]
  },
  {
   "cell_type": "code",
   "execution_count": 13,
   "id": "9c68c7a2",
   "metadata": {},
   "outputs": [
    {
     "data": {
      "text/plain": [
       "int"
      ]
     },
     "execution_count": 13,
     "metadata": {},
     "output_type": "execute_result"
    }
   ],
   "source": [
    "type(3)"
   ]
  },
  {
   "cell_type": "code",
   "execution_count": 11,
   "id": "a850bd8c",
   "metadata": {
    "scrolled": true
   },
   "outputs": [
    {
     "data": {
      "text/plain": [
       "float"
      ]
     },
     "execution_count": 11,
     "metadata": {},
     "output_type": "execute_result"
    }
   ],
   "source": [
    "type(1.5) "
   ]
  },
  {
   "cell_type": "code",
   "execution_count": 14,
   "id": "9f564c7f",
   "metadata": {},
   "outputs": [
    {
     "data": {
      "text/plain": [
       "7"
      ]
     },
     "execution_count": 14,
     "metadata": {},
     "output_type": "execute_result"
    }
   ],
   "source": [
    "3+4"
   ]
  },
  {
   "cell_type": "code",
   "execution_count": 15,
   "id": "dc682c5e",
   "metadata": {},
   "outputs": [
    {
     "data": {
      "text/plain": [
       "12"
      ]
     },
     "execution_count": 15,
     "metadata": {},
     "output_type": "execute_result"
    }
   ],
   "source": [
    "3*4"
   ]
  },
  {
   "cell_type": "code",
   "execution_count": 16,
   "id": "6dda7df6",
   "metadata": {},
   "outputs": [
    {
     "data": {
      "text/plain": [
       "0.75"
      ]
     },
     "execution_count": 16,
     "metadata": {},
     "output_type": "execute_result"
    }
   ],
   "source": [
    "3/4"
   ]
  },
  {
   "cell_type": "code",
   "execution_count": 17,
   "id": "0c4f4b95",
   "metadata": {},
   "outputs": [
    {
     "name": "stdout",
     "output_type": "stream",
     "text": [
      "12\n",
      "8\n"
     ]
    }
   ],
   "source": [
    "print(3*4)\n",
    "print(3+5)"
   ]
  },
  {
   "cell_type": "code",
   "execution_count": 18,
   "id": "c48238a0",
   "metadata": {},
   "outputs": [
    {
     "data": {
      "text/plain": [
       "8"
      ]
     },
     "execution_count": 18,
     "metadata": {},
     "output_type": "execute_result"
    }
   ],
   "source": [
    "3*4\n",
    "3+5"
   ]
  },
  {
   "cell_type": "code",
   "execution_count": 20,
   "id": "da7168f2",
   "metadata": {},
   "outputs": [
    {
     "data": {
      "text/plain": [
       "13"
      ]
     },
     "execution_count": 20,
     "metadata": {},
     "output_type": "execute_result"
    }
   ],
   "source": [
    "3+(2*5)"
   ]
  },
  {
   "cell_type": "code",
   "execution_count": 21,
   "id": "349f9950",
   "metadata": {},
   "outputs": [
    {
     "data": {
      "text/plain": [
       "6.2"
      ]
     },
     "execution_count": 21,
     "metadata": {},
     "output_type": "execute_result"
    }
   ],
   "source": [
    "3.1 * 2.0"
   ]
  },
  {
   "cell_type": "code",
   "execution_count": 23,
   "id": "abfb44a9",
   "metadata": {},
   "outputs": [
    {
     "data": {
      "text/plain": [
       "15.0"
      ]
     },
     "execution_count": 23,
     "metadata": {},
     "output_type": "execute_result"
    }
   ],
   "source": [
    "3.0*5"
   ]
  },
  {
   "cell_type": "markdown",
   "id": "e6c28da2",
   "metadata": {},
   "source": [
    "# String\n"
   ]
  },
  {
   "cell_type": "code",
   "execution_count": 3,
   "id": "5c6a93fa",
   "metadata": {},
   "outputs": [
    {
     "name": "stdout",
     "output_type": "stream",
     "text": [
      "Python\n"
     ]
    }
   ],
   "source": [
    "strvar = \"Python\"\n",
    "print(strvar)"
   ]
  },
  {
   "cell_type": "code",
   "execution_count": 3,
   "id": "3a203043",
   "metadata": {},
   "outputs": [
    {
     "data": {
      "text/plain": [
       "'h'"
      ]
     },
     "execution_count": 3,
     "metadata": {},
     "output_type": "execute_result"
    }
   ],
   "source": [
    "strvar[-3]"
   ]
  },
  {
   "cell_type": "code",
   "execution_count": 6,
   "id": "0237f30b",
   "metadata": {},
   "outputs": [
    {
     "data": {
      "text/plain": [
       "'thon'"
      ]
     },
     "execution_count": 6,
     "metadata": {},
     "output_type": "execute_result"
    }
   ],
   "source": [
    "strvar[2:]"
   ]
  },
  {
   "cell_type": "code",
   "execution_count": 4,
   "id": "42c51875",
   "metadata": {},
   "outputs": [
    {
     "data": {
      "text/plain": [
       "'Pytho'"
      ]
     },
     "execution_count": 4,
     "metadata": {},
     "output_type": "execute_result"
    }
   ],
   "source": [
    "strvar[ :5]"
   ]
  },
  {
   "cell_type": "code",
   "execution_count": 5,
   "id": "6256fe90",
   "metadata": {},
   "outputs": [
    {
     "data": {
      "text/plain": [
       "'tho'"
      ]
     },
     "execution_count": 5,
     "metadata": {},
     "output_type": "execute_result"
    }
   ],
   "source": [
    "strvar[2:5]"
   ]
  },
  {
   "cell_type": "code",
   "execution_count": 6,
   "id": "0f35e8ec",
   "metadata": {
    "scrolled": false
   },
   "outputs": [
    {
     "data": {
      "text/plain": [
       "'yhn'"
      ]
     },
     "execution_count": 6,
     "metadata": {},
     "output_type": "execute_result"
    }
   ],
   "source": [
    "strvar[1:6:2]"
   ]
  },
  {
   "cell_type": "raw",
   "id": "74e217df",
   "metadata": {},
   "source": [
    "[] # tek bir eleman alinir\n",
    "[:] ## başlangic ve bitis arasindaki elemanlar alinir\n",
    "[::] ### başlangic ve bitis arasindaki elemanlar ücüncü kisimdaki degere göre atlayarak degerler alinir"
   ]
  },
  {
   "cell_type": "code",
   "execution_count": 7,
   "id": "dfdab4c3",
   "metadata": {},
   "outputs": [
    {
     "data": {
      "text/plain": [
       "6"
      ]
     },
     "execution_count": 7,
     "metadata": {},
     "output_type": "execute_result"
    }
   ],
   "source": [
    "len(strvar)"
   ]
  },
  {
   "cell_type": "code",
   "execution_count": 17,
   "id": "89f5a579",
   "metadata": {},
   "outputs": [],
   "source": [
    "strvar = \"Python\"\n"
   ]
  },
  {
   "cell_type": "code",
   "execution_count": 18,
   "id": "161fb8c4",
   "metadata": {},
   "outputs": [],
   "source": [
    "strvar = strvar + \" ogren!\""
   ]
  },
  {
   "cell_type": "code",
   "execution_count": 20,
   "id": "c386a5bc",
   "metadata": {},
   "outputs": [
    {
     "data": {
      "text/plain": [
       "'Python ogren!Python ogren!Python ogren!Python ogren!Python ogren!'"
      ]
     },
     "execution_count": 20,
     "metadata": {},
     "output_type": "execute_result"
    }
   ],
   "source": [
    "strvar * 5"
   ]
  },
  {
   "cell_type": "code",
   "execution_count": 21,
   "id": "fea12657",
   "metadata": {
    "scrolled": false
   },
   "outputs": [
    {
     "data": {
      "text/plain": [
       "'Python ogren!'"
      ]
     },
     "execution_count": 21,
     "metadata": {},
     "output_type": "execute_result"
    }
   ],
   "source": [
    "strvar"
   ]
  },
  {
   "cell_type": "code",
   "execution_count": 8,
   "id": "9faa09e2",
   "metadata": {},
   "outputs": [
    {
     "data": {
      "text/plain": [
       "13"
      ]
     },
     "execution_count": 8,
     "metadata": {},
     "output_type": "execute_result"
    }
   ],
   "source": [
    "len(strvar)"
   ]
  },
  {
   "cell_type": "code",
   "execution_count": 10,
   "id": "69b7a004",
   "metadata": {},
   "outputs": [
    {
     "data": {
      "text/plain": [
       "'PYTHON OGREN!'"
      ]
     },
     "execution_count": 10,
     "metadata": {},
     "output_type": "execute_result"
    }
   ],
   "source": [
    "strvar.upper()"
   ]
  },
  {
   "cell_type": "code",
   "execution_count": 11,
   "id": "e71a3fc8",
   "metadata": {},
   "outputs": [
    {
     "data": {
      "text/plain": [
       "'python ogren!'"
      ]
     },
     "execution_count": 11,
     "metadata": {},
     "output_type": "execute_result"
    }
   ],
   "source": [
    "strvar.lower()"
   ]
  },
  {
   "cell_type": "code",
   "execution_count": 21,
   "id": "33738b6b",
   "metadata": {
    "scrolled": false
   },
   "outputs": [
    {
     "name": "stdout",
     "output_type": "stream",
     "text": [
      "PYTHON OGREN!\n",
      "python ogren!\n",
      "['Python', 'ogren!']\n",
      "['Pyth', 'n ogren!']\n",
      "['Pyth', 'n ', 'gren!']\n"
     ]
    }
   ],
   "source": [
    "print(strvar.upper())\n",
    "print(strvar.lower())\n",
    "print(strvar.split())\n",
    "print(strvar.split(sep=\"o\", maxsplit =1))\n",
    "print(strvar.split(\"o\"))"
   ]
  },
  {
   "cell_type": "markdown",
   "id": "56d331d9",
   "metadata": {},
   "source": [
    "# Boolean"
   ]
  },
  {
   "cell_type": "code",
   "execution_count": 13,
   "id": "c890ce88",
   "metadata": {},
   "outputs": [
    {
     "name": "stdout",
     "output_type": "stream",
     "text": [
      "<class 'bool'>\n",
      "True\n",
      "False\n",
      "<class 'str'>\n"
     ]
    }
   ],
   "source": [
    "a = True\n",
    "print(type(a))\n",
    "b = False\n",
    "print(a)\n",
    "print(b)\n",
    "c = \"True\"\n",
    "print(type(c))"
   ]
  },
  {
   "cell_type": "code",
   "execution_count": 18,
   "id": "0381d8ea",
   "metadata": {},
   "outputs": [
    {
     "name": "stdout",
     "output_type": "stream",
     "text": [
      "True\n",
      "False\n"
     ]
    }
   ],
   "source": [
    "yas1 = 20\n",
    "yas2 = 18\n",
    "\n",
    "print(yas1 > 18)\n",
    "print(yas2 > 18)"
   ]
  },
  {
   "cell_type": "code",
   "execution_count": 20,
   "id": "cab74153",
   "metadata": {},
   "outputs": [
    {
     "data": {
      "text/plain": [
       "True"
      ]
     },
     "execution_count": 20,
     "metadata": {},
     "output_type": "execute_result"
    }
   ],
   "source": [
    "yas2 == 18"
   ]
  },
  {
   "cell_type": "code",
   "execution_count": 22,
   "id": "75d05154",
   "metadata": {},
   "outputs": [
    {
     "data": {
      "text/plain": [
       "False"
      ]
     },
     "execution_count": 22,
     "metadata": {},
     "output_type": "execute_result"
    }
   ],
   "source": [
    "yas2 != 18"
   ]
  },
  {
   "cell_type": "code",
   "execution_count": 23,
   "id": "91c92948",
   "metadata": {},
   "outputs": [
    {
     "ename": "SyntaxError",
     "evalue": "invalid syntax (<ipython-input-23-ec05df111706>, line 1)",
     "output_type": "error",
     "traceback": [
      "\u001b[1;36m  File \u001b[1;32m\"<ipython-input-23-ec05df111706>\"\u001b[1;36m, line \u001b[1;32m1\u001b[0m\n\u001b[1;33m    yas2 !> 18\u001b[0m\n\u001b[1;37m         ^\u001b[0m\n\u001b[1;31mSyntaxError\u001b[0m\u001b[1;31m:\u001b[0m invalid syntax\n"
     ]
    }
   ],
   "source": [
    "yas2 !> 18"
   ]
  },
  {
   "cell_type": "code",
   "execution_count": 24,
   "id": "3cfb1716",
   "metadata": {},
   "outputs": [
    {
     "data": {
      "text/plain": [
       "True"
      ]
     },
     "execution_count": 24,
     "metadata": {},
     "output_type": "execute_result"
    }
   ],
   "source": [
    "not yas2 > 18"
   ]
  },
  {
   "cell_type": "code",
   "execution_count": 26,
   "id": "21421008",
   "metadata": {},
   "outputs": [
    {
     "data": {
      "text/plain": [
       "False"
      ]
     },
     "execution_count": 26,
     "metadata": {},
     "output_type": "execute_result"
    }
   ],
   "source": [
    "not yas2 == 18"
   ]
  },
  {
   "cell_type": "markdown",
   "id": "c57891d0",
   "metadata": {},
   "source": [
    "# List & Set\n"
   ]
  },
  {
   "cell_type": "code",
   "execution_count": 28,
   "id": "55ff1c98",
   "metadata": {},
   "outputs": [
    {
     "name": "stdout",
     "output_type": "stream",
     "text": [
      "['a', 'b', 'c', 'd', 'e', 'a']\n"
     ]
    }
   ],
   "source": [
    "liste = [\"a\" ,\"b\",\"c\",\"d\",\"e\",\"a\"]\n",
    "print(liste)"
   ]
  },
  {
   "cell_type": "code",
   "execution_count": 44,
   "id": "0e7056b2",
   "metadata": {},
   "outputs": [],
   "source": [
    "liste = liste + [\"f\"]"
   ]
  },
  {
   "cell_type": "code",
   "execution_count": 32,
   "id": "4475ddf0",
   "metadata": {},
   "outputs": [
    {
     "name": "stdout",
     "output_type": "stream",
     "text": [
      "['a', 'b', 'c', 'd', 'e', 'a', 'f']\n"
     ]
    }
   ],
   "source": [
    "print(liste)"
   ]
  },
  {
   "cell_type": "code",
   "execution_count": 33,
   "id": "142eb61f",
   "metadata": {},
   "outputs": [
    {
     "data": {
      "text/plain": [
       "'a'"
      ]
     },
     "execution_count": 33,
     "metadata": {},
     "output_type": "execute_result"
    }
   ],
   "source": [
    "liste[0]"
   ]
  },
  {
   "cell_type": "code",
   "execution_count": 35,
   "id": "2a7063e7",
   "metadata": {},
   "outputs": [
    {
     "data": {
      "text/plain": [
       "['c', 'd', 'e']"
      ]
     },
     "execution_count": 35,
     "metadata": {},
     "output_type": "execute_result"
    }
   ],
   "source": [
    "liste[2:5]"
   ]
  },
  {
   "cell_type": "code",
   "execution_count": 37,
   "id": "ef0f1608",
   "metadata": {},
   "outputs": [
    {
     "data": {
      "text/plain": [
       "7"
      ]
     },
     "execution_count": 37,
     "metadata": {},
     "output_type": "execute_result"
    }
   ],
   "source": [
    "len(liste)"
   ]
  },
  {
   "cell_type": "code",
   "execution_count": 53,
   "id": "344d7698",
   "metadata": {},
   "outputs": [
    {
     "data": {
      "text/plain": [
       "['a', 'b', 'c', 'd', 'e', 'a', 'f', 'g']"
      ]
     },
     "execution_count": 53,
     "metadata": {},
     "output_type": "execute_result"
    }
   ],
   "source": [
    "liste.append(\"g\")\n",
    "liste"
   ]
  },
  {
   "cell_type": "code",
   "execution_count": 52,
   "id": "486e63cd",
   "metadata": {},
   "outputs": [
    {
     "data": {
      "text/plain": [
       "'g'"
      ]
     },
     "execution_count": 52,
     "metadata": {},
     "output_type": "execute_result"
    }
   ],
   "source": [
    "liste.pop()\n"
   ]
  },
  {
   "cell_type": "code",
   "execution_count": 54,
   "id": "57cfc071",
   "metadata": {},
   "outputs": [
    {
     "data": {
      "text/plain": [
       "['a', 'b', 'c', 'd', 'e', 'a', 'f', 'g']"
      ]
     },
     "execution_count": 54,
     "metadata": {},
     "output_type": "execute_result"
    }
   ],
   "source": [
    "liste"
   ]
  },
  {
   "cell_type": "code",
   "execution_count": 55,
   "id": "be44c3d7",
   "metadata": {},
   "outputs": [
    {
     "name": "stdout",
     "output_type": "stream",
     "text": [
      "['a', 'b', 'c', 'd', 'e', 'f', 'g']\n"
     ]
    }
   ],
   "source": [
    "liste.pop(5)\n",
    "print(liste)"
   ]
  },
  {
   "cell_type": "code",
   "execution_count": 56,
   "id": "cf15b742",
   "metadata": {},
   "outputs": [],
   "source": [
    "sayilar =[123,12321,312,45435,35,345,1,1]\n",
    "sayilar.sort()"
   ]
  },
  {
   "cell_type": "code",
   "execution_count": 57,
   "id": "8b9c8770",
   "metadata": {},
   "outputs": [
    {
     "data": {
      "text/plain": [
       "[1, 1, 35, 123, 312, 345, 12321, 45435]"
      ]
     },
     "execution_count": 57,
     "metadata": {},
     "output_type": "execute_result"
    }
   ],
   "source": [
    "sayilar"
   ]
  },
  {
   "cell_type": "code",
   "execution_count": 61,
   "id": "f5f494bb",
   "metadata": {},
   "outputs": [
    {
     "name": "stdout",
     "output_type": "stream",
     "text": [
      "[45435, 12321, 345, 312, 123, 35, 1, 1]\n"
     ]
    }
   ],
   "source": [
    "sayilar.reverse()\n",
    "print(sayilar)"
   ]
  },
  {
   "cell_type": "code",
   "execution_count": 62,
   "id": "e724b129",
   "metadata": {},
   "outputs": [
    {
     "data": {
      "text/plain": [
       "{1, 35, 123, 312, 345, 12321, 45435}"
      ]
     },
     "execution_count": 62,
     "metadata": {},
     "output_type": "execute_result"
    }
   ],
   "source": [
    "set(sayilar)"
   ]
  },
  {
   "cell_type": "code",
   "execution_count": 64,
   "id": "014c3f1d",
   "metadata": {},
   "outputs": [
    {
     "name": "stdout",
     "output_type": "stream",
     "text": [
      "['123', 'abc', 'arda', '7', 'izmir', '-5']\n"
     ]
    }
   ],
   "source": [
    "random = [\"123\",\"abc\",\"arda\",\"7\",\"izmir\",\"-5\"]\n",
    "print(random)"
   ]
  },
  {
   "cell_type": "code",
   "execution_count": 67,
   "id": "09c7d408",
   "metadata": {},
   "outputs": [
    {
     "data": {
      "text/plain": [
       "['-5', '123', '7', 'abc', 'arda', 'izmir']"
      ]
     },
     "execution_count": 67,
     "metadata": {},
     "output_type": "execute_result"
    }
   ],
   "source": [
    "random.sort()\n",
    "random"
   ]
  },
  {
   "cell_type": "markdown",
   "id": "2a9e7045",
   "metadata": {},
   "source": [
    "# Tuple"
   ]
  },
  {
   "cell_type": "code",
   "execution_count": 1,
   "id": "d61e9f32",
   "metadata": {},
   "outputs": [
    {
     "name": "stdout",
     "output_type": "stream",
     "text": [
      "['a', 'b', 'c', 'd', 'e', 'a']\n",
      "('a', 'b', 'c', 'd', 'e', 'a')\n"
     ]
    }
   ],
   "source": [
    "liste = [\"a\" ,\"b\",\"c\",\"d\",\"e\",\"a\"]\n",
    "print(liste)\n",
    "tup = (\"a\" ,\"b\",\"c\",\"d\",\"e\",\"a\")\n",
    "print(tup)"
   ]
  },
  {
   "cell_type": "code",
   "execution_count": 2,
   "id": "87c229ca",
   "metadata": {},
   "outputs": [
    {
     "data": {
      "text/plain": [
       "[12312, 'b', 'c', 'd', 'e', 'a']"
      ]
     },
     "execution_count": 2,
     "metadata": {},
     "output_type": "execute_result"
    }
   ],
   "source": [
    "liste[0] = 12312\n",
    "liste"
   ]
  },
  {
   "cell_type": "code",
   "execution_count": 3,
   "id": "0e2fe4e4",
   "metadata": {},
   "outputs": [
    {
     "ename": "TypeError",
     "evalue": "'tuple' object does not support item assignment",
     "output_type": "error",
     "traceback": [
      "\u001b[1;31m---------------------------------------------------------------------------\u001b[0m",
      "\u001b[1;31mTypeError\u001b[0m                                 Traceback (most recent call last)",
      "\u001b[1;32m<ipython-input-3-ffd814e74aba>\u001b[0m in \u001b[0;36m<module>\u001b[1;34m\u001b[0m\n\u001b[1;32m----> 1\u001b[1;33m \u001b[0mtup\u001b[0m\u001b[1;33m[\u001b[0m\u001b[1;36m0\u001b[0m\u001b[1;33m]\u001b[0m \u001b[1;33m=\u001b[0m \u001b[1;36m12312\u001b[0m\u001b[1;33m\u001b[0m\u001b[1;33m\u001b[0m\u001b[0m\n\u001b[0m\u001b[0;32m      2\u001b[0m \u001b[0mtup\u001b[0m\u001b[1;33m\u001b[0m\u001b[1;33m\u001b[0m\u001b[0m\n",
      "\u001b[1;31mTypeError\u001b[0m: 'tuple' object does not support item assignment"
     ]
    }
   ],
   "source": [
    "tup[0] = 12312\n",
    "tup"
   ]
  },
  {
   "cell_type": "code",
   "execution_count": 10,
   "id": "cb2d29cc",
   "metadata": {},
   "outputs": [
    {
     "data": {
      "text/plain": [
       "0"
      ]
     },
     "execution_count": 10,
     "metadata": {},
     "output_type": "execute_result"
    }
   ],
   "source": [
    "tup.count(True)"
   ]
  },
  {
   "cell_type": "code",
   "execution_count": 17,
   "id": "bf9c6f2b",
   "metadata": {},
   "outputs": [
    {
     "ename": "ValueError",
     "evalue": "tuple.index(x): x not in tuple",
     "output_type": "error",
     "traceback": [
      "\u001b[1;31m---------------------------------------------------------------------------\u001b[0m",
      "\u001b[1;31mValueError\u001b[0m                                Traceback (most recent call last)",
      "\u001b[1;32m<ipython-input-17-298b245d385d>\u001b[0m in \u001b[0;36m<module>\u001b[1;34m\u001b[0m\n\u001b[1;32m----> 1\u001b[1;33m \u001b[0mtup\u001b[0m\u001b[1;33m.\u001b[0m\u001b[0mindex\u001b[0m\u001b[1;33m(\u001b[0m\u001b[1;34m\"f\"\u001b[0m\u001b[1;33m)\u001b[0m\u001b[1;33m\u001b[0m\u001b[1;33m\u001b[0m\u001b[0m\n\u001b[0m",
      "\u001b[1;31mValueError\u001b[0m: tuple.index(x): x not in tuple"
     ]
    }
   ],
   "source": [
    "tup.index(\"f\") "
   ]
  },
  {
   "cell_type": "markdown",
   "id": "00670364",
   "metadata": {},
   "source": [
    "# Dictionary"
   ]
  },
  {
   "cell_type": "code",
   "execution_count": 20,
   "id": "bf1a3020",
   "metadata": {},
   "outputs": [
    {
     "data": {
      "text/plain": [
       "{'isim': 'Arda', 'yas': 16, 'lokasyon': 'Turkiye'}"
      ]
     },
     "execution_count": 20,
     "metadata": {},
     "output_type": "execute_result"
    }
   ],
   "source": [
    "dict1 = {\"isim\":\"Arda\",\"yas\":16,\"lokasyon\":\"Turkiye\"}\n",
    "dict1"
   ]
  },
  {
   "cell_type": "code",
   "execution_count": 33,
   "id": "934484aa",
   "metadata": {
    "scrolled": true
   },
   "outputs": [
    {
     "data": {
      "text/plain": [
       "{'isim': 'Arda',\n",
       " 'yas': 16,\n",
       " 'dogdugu_sehir': 'Aydin',\n",
       " 'yasadigi_sehir': 'İzmir'}"
      ]
     },
     "execution_count": 33,
     "metadata": {},
     "output_type": "execute_result"
    }
   ],
   "source": [
    "dict2 = {\n",
    "    \"isim\":\"Arda\",\n",
    "    \"yas\": 16,\n",
    "    \"dogdugu_sehir\":\"Aydin\",\n",
    "    \"yasadigi_sehir\":\"İzmir\"\n",
    "    ##\"lokasyon\":\n",
    "}\n",
    "dict2"
   ]
  },
  {
   "cell_type": "code",
   "execution_count": 29,
   "id": "b8fc3322",
   "metadata": {
    "scrolled": true
   },
   "outputs": [
    {
     "data": {
      "text/plain": [
       "{'isim': 'Arda',\n",
       " 'yas': 16,\n",
       " 'lokasyon': {'dogdugu_sehir': 'Aydin', 'yasadigi_sehir': 'İzmir'}}"
      ]
     },
     "execution_count": 29,
     "metadata": {},
     "output_type": "execute_result"
    }
   ],
   "source": [
    "dict3 = {\n",
    "    \"isim\":\"Arda\",\n",
    "    \"yas\": 16,\n",
    "    \"lokasyon\":{\n",
    "        \"dogdugu_sehir\":\"Aydin\",\n",
    "        \"yasadigi_sehir\":\"İzmir\"\n",
    "    }\n",
    "}\n",
    "dict3"
   ]
  },
  {
   "cell_type": "code",
   "execution_count": 36,
   "id": "670655e8",
   "metadata": {},
   "outputs": [
    {
     "data": {
      "text/plain": [
       "16"
      ]
     },
     "execution_count": 36,
     "metadata": {},
     "output_type": "execute_result"
    }
   ],
   "source": [
    "dict2[\"yas\"]"
   ]
  },
  {
   "cell_type": "code",
   "execution_count": 42,
   "id": "bff79581",
   "metadata": {},
   "outputs": [
    {
     "data": {
      "text/plain": [
       "16"
      ]
     },
     "execution_count": 42,
     "metadata": {},
     "output_type": "execute_result"
    }
   ],
   "source": [
    "dict2.get(\"yas\")"
   ]
  },
  {
   "cell_type": "code",
   "execution_count": 46,
   "id": "ff8cbcf8",
   "metadata": {},
   "outputs": [
    {
     "data": {
      "text/plain": [
       "'İzmir'"
      ]
     },
     "execution_count": 46,
     "metadata": {},
     "output_type": "execute_result"
    }
   ],
   "source": [
    "dict3.get(\"lokasyon\").get(\"yasadigi_sehir\")"
   ]
  },
  {
   "cell_type": "code",
   "execution_count": 48,
   "id": "27f62c5a",
   "metadata": {},
   "outputs": [
    {
     "data": {
      "text/plain": [
       "dict_keys(['isim', 'yas', 'dogdugu_sehir', 'yasadigi_sehir'])"
      ]
     },
     "execution_count": 48,
     "metadata": {},
     "output_type": "execute_result"
    }
   ],
   "source": [
    "dict2.keys()"
   ]
  },
  {
   "cell_type": "code",
   "execution_count": 49,
   "id": "491a7e09",
   "metadata": {},
   "outputs": [
    {
     "data": {
      "text/plain": [
       "dict_values(['Arda', 16, 'Aydin', 'İzmir'])"
      ]
     },
     "execution_count": 49,
     "metadata": {},
     "output_type": "execute_result"
    }
   ],
   "source": [
    "dict2.values()"
   ]
  },
  {
   "cell_type": "code",
   "execution_count": 52,
   "id": "935ec2b3",
   "metadata": {},
   "outputs": [
    {
     "data": {
      "text/plain": [
       "dict_items([('isim', 'Arda'), ('yas', 16), ('dogdugu_sehir', 'Aydin'), ('yasadigi_sehir', 'İzmir')])"
      ]
     },
     "execution_count": 52,
     "metadata": {},
     "output_type": "execute_result"
    }
   ],
   "source": [
    "dict2.items()"
   ]
  },
  {
   "cell_type": "code",
   "execution_count": 50,
   "id": "213bd05a",
   "metadata": {},
   "outputs": [
    {
     "data": {
      "text/plain": [
       "dict_keys(['isim', 'yas', 'lokasyon'])"
      ]
     },
     "execution_count": 50,
     "metadata": {},
     "output_type": "execute_result"
    }
   ],
   "source": [
    "dict3.keys()"
   ]
  },
  {
   "cell_type": "code",
   "execution_count": 51,
   "id": "64d6b96d",
   "metadata": {},
   "outputs": [
    {
     "data": {
      "text/plain": [
       "dict_values(['Arda', 16, {'dogdugu_sehir': 'Aydin', 'yasadigi_sehir': 'İzmir'}])"
      ]
     },
     "execution_count": 51,
     "metadata": {},
     "output_type": "execute_result"
    }
   ],
   "source": [
    "dict3.values()"
   ]
  },
  {
   "cell_type": "code",
   "execution_count": 53,
   "id": "9ab9efd1",
   "metadata": {},
   "outputs": [
    {
     "data": {
      "text/plain": [
       "dict_items([('isim', 'Arda'), ('yas', 16), ('lokasyon', {'dogdugu_sehir': 'Aydin', 'yasadigi_sehir': 'İzmir'})])"
      ]
     },
     "execution_count": 53,
     "metadata": {},
     "output_type": "execute_result"
    }
   ],
   "source": [
    "dict3.items()"
   ]
  }
 ],
 "metadata": {
  "kernelspec": {
   "display_name": "Python 3",
   "language": "python",
   "name": "python3"
  },
  "language_info": {
   "codemirror_mode": {
    "name": "ipython",
    "version": 3
   },
   "file_extension": ".py",
   "mimetype": "text/x-python",
   "name": "python",
   "nbconvert_exporter": "python",
   "pygments_lexer": "ipython3",
   "version": "3.8.8"
  }
 },
 "nbformat": 4,
 "nbformat_minor": 5
}
